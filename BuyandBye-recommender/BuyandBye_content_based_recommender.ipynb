{
 "cells": [
  {
   "cell_type": "code",
   "execution_count": 1,
   "metadata": {},
   "outputs": [],
   "source": [
    "import pandas as pd\n",
    "import sqlite3 as sq"
   ]
  },
  {
   "cell_type": "markdown",
   "metadata": {},
   "source": [
    "So, we import the pandas and the sqlite framework to start off.\n",
    "* _**pandas**_ is a software library written for the Python programming language for data manipulation and analysis. In particular, it offers data structures and operations for manipulating numerical tables and time series.\n",
    "* _**sqlite3**_ is a python module used to integrate the sqlite3 database with python"
   ]
  },
  {
   "cell_type": "code",
   "execution_count": 2,
   "metadata": {},
   "outputs": [],
   "source": [
    "conn=sq.connect(\"db.sqlite3\")"
   ]
  },
  {
   "cell_type": "markdown",
   "metadata": {},
   "source": [
    "To use sqlite3 module, you must first create a 'connection' object that represents the database. \n",
    "Here, we use the **conn** as an object to represent i.e. connect the database  "
   ]
  },
  {
   "cell_type": "code",
   "execution_count": 3,
   "metadata": {},
   "outputs": [],
   "source": [
    "df = pd.read_sql_query(\"select * from product_item;\", conn)\n",
    "u_df = pd.read_sql_query(\"select * from activity_activity;\", conn)"
   ]
  },
  {
   "cell_type": "markdown",
   "metadata": {},
   "source": [
    "We then load the data from the database tables into a structure called ***DataFrame***\n",
    "\n",
    "A DataFrame is a two-dimensional data structure, i.e., data is aligned in a tabular fashion in rows and columns. Pandas DataFrame consists of three principal components, the data, rows, and columns.\n",
    "\n",
    "Here, ***df*** is a DataFrame used to store the ***product_item*** table from the data base wich stores all *class Item* model object.\n",
    "Similarly, ***u_df*** is a DataFrame used to store the ***activity_activity*** table which consists of user activity\n",
    "\n",
    "*To know more about the database, refer to section 3.3.1 L. db.sqlite3 of the document*"
   ]
  },
  {
   "cell_type": "markdown",
   "metadata": {},
   "source": [
    "To visualize the dataframe in actoin, we perform the following action:"
   ]
  },
  {
   "cell_type": "code",
   "execution_count": 4,
   "metadata": {},
   "outputs": [
    {
     "data": {
      "text/html": [
       "<div>\n",
       "<style scoped>\n",
       "    .dataframe tbody tr th:only-of-type {\n",
       "        vertical-align: middle;\n",
       "    }\n",
       "\n",
       "    .dataframe tbody tr th {\n",
       "        vertical-align: top;\n",
       "    }\n",
       "\n",
       "    .dataframe thead th {\n",
       "        text-align: right;\n",
       "    }\n",
       "</style>\n",
       "<table border=\"1\" class=\"dataframe\">\n",
       "  <thead>\n",
       "    <tr style=\"text-align: right;\">\n",
       "      <th></th>\n",
       "      <th>id</th>\n",
       "      <th>title</th>\n",
       "      <th>price_currency</th>\n",
       "      <th>price</th>\n",
       "      <th>content</th>\n",
       "      <th>image</th>\n",
       "      <th>condition</th>\n",
       "      <th>price_negotiability</th>\n",
       "      <th>item_available_for</th>\n",
       "      <th>date_posted</th>\n",
       "      <th>slug</th>\n",
       "      <th>author_id</th>\n",
       "      <th>category_id</th>\n",
       "      <th>sub_category_id</th>\n",
       "      <th>sold</th>\n",
       "    </tr>\n",
       "  </thead>\n",
       "  <tbody>\n",
       "    <tr>\n",
       "      <th>0</th>\n",
       "      <td>1</td>\n",
       "      <td>Necklace</td>\n",
       "      <td>NPR</td>\n",
       "      <td>450.0</td>\n",
       "      <td>lipsum</td>\n",
       "      <td>item_pics/images_1.jpg</td>\n",
       "      <td>Brand New</td>\n",
       "      <td>0</td>\n",
       "      <td>Sale</td>\n",
       "      <td>2020-03-08 11:32:18.820751</td>\n",
       "      <td>necklace</td>\n",
       "      <td>1</td>\n",
       "      <td>1</td>\n",
       "      <td>4</td>\n",
       "      <td>0</td>\n",
       "    </tr>\n",
       "    <tr>\n",
       "      <th>1</th>\n",
       "      <td>2</td>\n",
       "      <td>Hyundai Elantra</td>\n",
       "      <td>NPR</td>\n",
       "      <td>45000.0</td>\n",
       "      <td>lipsum</td>\n",
       "      <td>item_pics/Edge-Of-World_Hz3Kvzo.jpg</td>\n",
       "      <td>Used (Worn Out)</td>\n",
       "      <td>1</td>\n",
       "      <td>Sale</td>\n",
       "      <td>2020-03-08 14:51:00.170484</td>\n",
       "      <td>hyundai-elantra</td>\n",
       "      <td>1</td>\n",
       "      <td>2</td>\n",
       "      <td>16</td>\n",
       "      <td>0</td>\n",
       "    </tr>\n",
       "  </tbody>\n",
       "</table>\n",
       "</div>"
      ],
      "text/plain": [
       "   id            title price_currency    price content  \\\n",
       "0   1         Necklace            NPR    450.0  lipsum   \n",
       "1   2  Hyundai Elantra            NPR  45000.0  lipsum   \n",
       "\n",
       "                                 image        condition  price_negotiability  \\\n",
       "0               item_pics/images_1.jpg        Brand New                    0   \n",
       "1  item_pics/Edge-Of-World_Hz3Kvzo.jpg  Used (Worn Out)                    1   \n",
       "\n",
       "  item_available_for                 date_posted             slug  author_id  \\\n",
       "0               Sale  2020-03-08 11:32:18.820751         necklace          1   \n",
       "1               Sale  2020-03-08 14:51:00.170484  hyundai-elantra          1   \n",
       "\n",
       "   category_id  sub_category_id  sold  \n",
       "0            1                4     0  \n",
       "1            2               16     0  "
      ]
     },
     "execution_count": 4,
     "metadata": {},
     "output_type": "execute_result"
    }
   ],
   "source": [
    "df.head(2)"
   ]
  },
  {
   "cell_type": "code",
   "execution_count": 5,
   "metadata": {},
   "outputs": [
    {
     "data": {
      "text/html": [
       "<div>\n",
       "<style scoped>\n",
       "    .dataframe tbody tr th:only-of-type {\n",
       "        vertical-align: middle;\n",
       "    }\n",
       "\n",
       "    .dataframe tbody tr th {\n",
       "        vertical-align: top;\n",
       "    }\n",
       "\n",
       "    .dataframe thead th {\n",
       "        text-align: right;\n",
       "    }\n",
       "</style>\n",
       "<table border=\"1\" class=\"dataframe\">\n",
       "  <thead>\n",
       "    <tr style=\"text-align: right;\">\n",
       "      <th></th>\n",
       "      <th>id</th>\n",
       "      <th>verb</th>\n",
       "      <th>target_id</th>\n",
       "      <th>date_created</th>\n",
       "      <th>target_ct_id</th>\n",
       "      <th>user_id</th>\n",
       "    </tr>\n",
       "  </thead>\n",
       "  <tbody>\n",
       "    <tr>\n",
       "      <th>0</th>\n",
       "      <td>1</td>\n",
       "      <td>Viewed item</td>\n",
       "      <td>1</td>\n",
       "      <td>2020-03-08 11:54:59.889893</td>\n",
       "      <td>10</td>\n",
       "      <td>1</td>\n",
       "    </tr>\n",
       "    <tr>\n",
       "      <th>1</th>\n",
       "      <td>2</td>\n",
       "      <td>Viewed item</td>\n",
       "      <td>1</td>\n",
       "      <td>2020-03-08 12:04:10.356637</td>\n",
       "      <td>10</td>\n",
       "      <td>1</td>\n",
       "    </tr>\n",
       "  </tbody>\n",
       "</table>\n",
       "</div>"
      ],
      "text/plain": [
       "   id         verb  target_id                date_created  target_ct_id  \\\n",
       "0   1  Viewed item          1  2020-03-08 11:54:59.889893            10   \n",
       "1   2  Viewed item          1  2020-03-08 12:04:10.356637            10   \n",
       "\n",
       "   user_id  \n",
       "0        1  \n",
       "1        1  "
      ]
     },
     "execution_count": 5,
     "metadata": {},
     "output_type": "execute_result"
    }
   ],
   "source": [
    "u_df.head(2)"
   ]
  },
  {
   "cell_type": "markdown",
   "metadata": {},
   "source": [
    "the ***.head(2)*** lists the top 2 rows of the dataframe.\n",
    "\n",
    "Now that the data has been loaded, we perform some mathematical operations, in our case a ***TF-IDF Vectorizer***"
   ]
  },
  {
   "cell_type": "code",
   "execution_count": 6,
   "metadata": {},
   "outputs": [],
   "source": [
    "from sklearn.feature_extraction.text import TfidfVectorizer\n",
    "from sklearn.metrics.pairwise import linear_kernel"
   ]
  },
  {
   "cell_type": "markdown",
   "metadata": {},
   "source": [
    "* ***sklearn*** aka ***(Scikit-learn)*** is a free machine learning library for Python. It features various algorithms like support vector machine, random forests, and k-neighbours, and it also supports Python numerical and scientific libraries like NumPy and SciPy.\n",
    "\n",
    "_sklearn_ provides us the tools to create a TF-IDF Vectorizer\n",
    "#### TF-IDF Vectorizer"
   ]
  },
  {
   "cell_type": "code",
   "execution_count": 7,
   "metadata": {},
   "outputs": [],
   "source": [
    "tf = TfidfVectorizer(analyzer='word', ngram_range=(1,3), min_df=0, stop_words='english')\n",
    "\n",
    "tfidf_matrix = tf.fit_transform(df['content'])"
   ]
  },
  {
   "cell_type": "markdown",
   "metadata": {},
   "source": [
    "The TF*IDF algorithm is used to weigh a keyword in any document and assign the importance to that keyword based on the number of times it appears in the document. Put simply, the higher the TF*IDF score (weight), the rarer and more important the term, and vice versa.\n",
    "\n",
    "Each word or term has its respective TF and IDF score. The product of the TF and IDF scores of a term is called the TF*IDF weight of that term.\n",
    "\n",
    "The **TF (term frequency)** of a word is the number of times it appears in a document. When you know it, you’re able to see if you’re using a term too often or too infrequently.\n",
    "    \n",
    "    TF(t) = (Number of times term t appears in a document) / (Total number of terms in the document).\n",
    "\n",
    "The **IDF (inverse document frequency)** of a word is the measure of how significant that term is in the whole corpus.\n",
    "\n",
    "    IDF(t) = log_e(Total number of documents / Number of documents with term t in it).\n",
    "\n",
    "![tfidf](https://miro.medium.com/max/364/1*3Ig7VSgscBzXaYa0Q-UM1w.png)\n",
    "TF-IDF calculation\n",
    "\n",
    "In Python, scikit-learn provides you a pre-built TF-IDF vectorizer that calculates the TF-IDF score for each document’s description, word-by-word."
   ]
  },
  {
   "cell_type": "code",
   "execution_count": 8,
   "metadata": {},
   "outputs": [
    {
     "name": "stdout",
     "output_type": "stream",
     "text": [
      "  (0, 2129)\t1.0\n"
     ]
    }
   ],
   "source": [
    "print(tfidf_matrix[1])"
   ]
  },
  {
   "attachments": {
    "image.png": {
     "image/png": "[encoded data removed]"
    }
   },
   "cell_type": "markdown",
   "metadata": {},
   "source": [
    "Here, the ***tfidf_matrix*** is the matrix containing each word and its TF-IDF score with regard to each document, or item in this case. Also, stop words are simply words that add no significant value to our system, like ‘an’, ‘is’, ‘the’, and hence are ignored by the system.\n",
    "\n",
    "Now, we have a representation of every item in terms of its description. Next, we need to calculate the relevance or similarity of one document to another.\n",
    "\n",
    "#### Vector Space Model\n",
    "In this model, each item is stored as a vector of its attributes (which are also vectors) in an n-dimensional space, and the angles between the vectors are calculated to determine the similarity between the vectors.\n",
    "\n",
    "![](https://miro.medium.com/max/414/1*LWoRop9T6hC7zhi32UxhCQ.png)\n",
    "\n",
    "Documents represented as vectors\n",
    "\n",
    "The method of calculating the user’s likes / dislikes / measures is calculated by taking the cosine of the angle between the user profile vector (Ui ) and the document vector; or in our case, the angle between two document vectors.\n",
    "The ultimate reason behind using cosine is that the value of cosine will increase as the angle between vectors with decreases, which signifies more similarity.\n",
    "The vectors are length-normalized, after which they become vectors of length 1.\n",
    "\n",
    "#### Calculating Cosine Similarity\n",
    "![image.png](attachment:image.png)\n",
    "\n",
    "Cosine similarity"
   ]
  },
  {
   "cell_type": "code",
   "execution_count": 9,
   "metadata": {},
   "outputs": [],
   "source": [
    "cosine_similarities = linear_kernel(tfidf_matrix, tfidf_matrix)\n",
    "results = {}\n",
    "for idx, row in df.iterrows():\n",
    "    similar_indices = cosine_similarities[idx].argsort()[:-100:-1]\n",
    "    similar_items = [(cosine_similarities[idx][i], df['id'][i]) for i in similar_indices]\n",
    "    results[row['id']] = similar_items[1:]"
   ]
  },
  {
   "cell_type": "markdown",
   "metadata": {},
   "source": [
    "Here we’ve calculated the cosine similarity of each item with every other item in the dataset, and then arranged them according to their similarity with item ***i***, and stored the values in ***results***."
   ]
  },
  {
   "cell_type": "markdown",
   "metadata": {},
   "source": [
    "##### Making a recommendation\n",
    "So here comes the part where we finally get to see our recommender system in action."
   ]
  },
  {
   "cell_type": "code",
   "execution_count": 10,
   "metadata": {},
   "outputs": [],
   "source": [
    "def item(id):  \n",
    "  return df.loc[df['id'] == id]['title'].tolist()[0].split(' - ')[0] \n",
    "\n",
    "def recommend(item_id, num):\n",
    "    print(\"Recommending \" + str(num) + \" products similar to \" + item(item_id) + \"...\")   \n",
    "    print(\"-------\")\n",
    "    recs = results[item_id][:num]  \n",
    "    for rec in recs:\n",
    "        print(\"Recommended: \" + item(rec[1]) + \" (score:\" + str(rec[0]) + \")\")"
   ]
  },
  {
   "cell_type": "markdown",
   "metadata": {},
   "source": [
    "function ***item(id)*** returns the *title* of the parameter ***id*** ie title of the item in dataframe\n",
    "\n",
    "function ***recommend(item_id, num)*** returns the *'num'* number of *recommended items* similar to item with id ***item_id***\n",
    "\n",
    "Let's see an example:"
   ]
  },
  {
   "cell_type": "code",
   "execution_count": 11,
   "metadata": {},
   "outputs": [
    {
     "name": "stdout",
     "output_type": "stream",
     "text": [
      "Recommending 4 products similar to Samsung Galaxy S10e...\n",
      "-------\n",
      "Recommended: Samsung Galaxy S10 (score:0.3388675864995107)\n",
      "Recommended: Samsung Galaxy S10 (score:0.3301949324341461)\n",
      "Recommended: Samsung Galaxy Note 10 (score:0.20155566114586354)\n",
      "Recommended: Samsung Galaxy S10 5g (score:0.19530303866638044)\n"
     ]
    }
   ],
   "source": [
    "recommend(3, 4)"
   ]
  },
  {
   "cell_type": "markdown",
   "metadata": {},
   "source": [
    "For the purpose of our BuyandBye django project, we redefine the recommend function as follows to return the id of the recommended item so we can filter the ids to display items.\n",
    "\n",
    "```python\n",
    "def recommend(item_id, num):\n",
    "    \"\"\" recommends num items similar to item_id\"\"\"\n",
    "    recs = results[item_id][:num]\n",
    "    product_id = []\n",
    "    for rd in recs:\n",
    "        \"\"\"iteraring each result obtained from cosine similarity and assigning them from tuple\"\"\"\n",
    "        product_id.append(rd[1])\n",
    "    return product_id\n",
    "```\n",
    "\n",
    "This redefined function returns a python list with ids of recommended products."
   ]
  },
  {
   "cell_type": "markdown",
   "metadata": {},
   "source": [
    "### User based recommendation\n",
    "\n",
    "Then for recommending items catered to the user, we apply a very simple method based on the user activity. \n",
    "\n",
    "***'u_df'*** dataframe consists of the table with activities of the user."
   ]
  },
  {
   "cell_type": "code",
   "execution_count": 12,
   "metadata": {},
   "outputs": [],
   "source": [
    "#filtering user\n",
    "u_df.user_id = 1\n",
    "#filtering based on viewed item\n",
    "u_df.verb = \"Viewed item\""
   ]
  },
  {
   "cell_type": "markdown",
   "metadata": {},
   "source": [
    "So, we clean the data accordingly. \n",
    "\n",
    "using ***.user_id*** and  ***.verb*** to filter the dataframe for specific user and activity"
   ]
  },
  {
   "cell_type": "code",
   "execution_count": 13,
   "metadata": {},
   "outputs": [
    {
     "data": {
      "text/html": [
       "<div>\n",
       "<style scoped>\n",
       "    .dataframe tbody tr th:only-of-type {\n",
       "        vertical-align: middle;\n",
       "    }\n",
       "\n",
       "    .dataframe tbody tr th {\n",
       "        vertical-align: top;\n",
       "    }\n",
       "\n",
       "    .dataframe thead th {\n",
       "        text-align: right;\n",
       "    }\n",
       "</style>\n",
       "<table border=\"1\" class=\"dataframe\">\n",
       "  <thead>\n",
       "    <tr style=\"text-align: right;\">\n",
       "      <th></th>\n",
       "      <th>id</th>\n",
       "      <th>verb</th>\n",
       "      <th>target_id</th>\n",
       "      <th>date_created</th>\n",
       "      <th>target_ct_id</th>\n",
       "      <th>user_id</th>\n",
       "    </tr>\n",
       "  </thead>\n",
       "  <tbody>\n",
       "    <tr>\n",
       "      <th>0</th>\n",
       "      <td>1</td>\n",
       "      <td>Viewed item</td>\n",
       "      <td>1</td>\n",
       "      <td>2020-03-08 11:54:59.889893</td>\n",
       "      <td>10</td>\n",
       "      <td>1</td>\n",
       "    </tr>\n",
       "    <tr>\n",
       "      <th>1</th>\n",
       "      <td>2</td>\n",
       "      <td>Viewed item</td>\n",
       "      <td>1</td>\n",
       "      <td>2020-03-08 12:04:10.356637</td>\n",
       "      <td>10</td>\n",
       "      <td>1</td>\n",
       "    </tr>\n",
       "    <tr>\n",
       "      <th>2</th>\n",
       "      <td>3</td>\n",
       "      <td>Viewed item</td>\n",
       "      <td>1</td>\n",
       "      <td>2020-03-08 12:09:06.035377</td>\n",
       "      <td>8</td>\n",
       "      <td>1</td>\n",
       "    </tr>\n",
       "    <tr>\n",
       "      <th>3</th>\n",
       "      <td>4</td>\n",
       "      <td>Viewed item</td>\n",
       "      <td>1</td>\n",
       "      <td>2020-03-08 12:11:13.468785</td>\n",
       "      <td>10</td>\n",
       "      <td>1</td>\n",
       "    </tr>\n",
       "    <tr>\n",
       "      <th>4</th>\n",
       "      <td>5</td>\n",
       "      <td>Viewed item</td>\n",
       "      <td>2</td>\n",
       "      <td>2020-03-08 14:51:00.367496</td>\n",
       "      <td>10</td>\n",
       "      <td>1</td>\n",
       "    </tr>\n",
       "  </tbody>\n",
       "</table>\n",
       "</div>"
      ],
      "text/plain": [
       "   id         verb  target_id                date_created  target_ct_id  \\\n",
       "0   1  Viewed item          1  2020-03-08 11:54:59.889893            10   \n",
       "1   2  Viewed item          1  2020-03-08 12:04:10.356637            10   \n",
       "2   3  Viewed item          1  2020-03-08 12:09:06.035377             8   \n",
       "3   4  Viewed item          1  2020-03-08 12:11:13.468785            10   \n",
       "4   5  Viewed item          2  2020-03-08 14:51:00.367496            10   \n",
       "\n",
       "   user_id  \n",
       "0        1  \n",
       "1        1  \n",
       "2        1  \n",
       "3        1  \n",
       "4        1  "
      ]
     },
     "execution_count": 13,
     "metadata": {},
     "output_type": "execute_result"
    }
   ],
   "source": [
    "u_df.head(5)"
   ]
  },
  {
   "cell_type": "markdown",
   "metadata": {},
   "source": [
    "Here, the ***target_ct_id*** contains the *item ids* of the viewed items by the user.\n",
    "\n",
    "We extract the item viewed most number of time, and recommend items similar to that item."
   ]
  },
  {
   "cell_type": "code",
   "execution_count": 14,
   "metadata": {},
   "outputs": [
    {
     "data": {
      "text/plain": [
       "0    1\n",
       "dtype: int64"
      ]
     },
     "execution_count": 14,
     "metadata": {},
     "output_type": "execute_result"
    }
   ],
   "source": [
    "#calculating most recurring item\n",
    "most_repeated = u_df.target_id.mode()\n",
    "most_repeated"
   ]
  },
  {
   "cell_type": "markdown",
   "metadata": {},
   "source": [
    "As we can see the ***'mode()'***  function returns a single most repeated item's id, we capture that id and then recommend based on that id"
   ]
  },
  {
   "cell_type": "code",
   "execution_count": 15,
   "metadata": {},
   "outputs": [
    {
     "data": {
      "text/plain": [
       "1"
      ]
     },
     "execution_count": 15,
     "metadata": {},
     "output_type": "execute_result"
    }
   ],
   "source": [
    "#extracting index of the most recurred item\n",
    "id_index = most_repeated[0]\n",
    "id_index"
   ]
  },
  {
   "cell_type": "code",
   "execution_count": 16,
   "metadata": {},
   "outputs": [
    {
     "name": "stdout",
     "output_type": "stream",
     "text": [
      "Recommending 5 products similar to Necklace...\n",
      "-------\n",
      "Recommended: Hyundai Elantra (score:1.0)\n",
      "Recommended: Samsung Galaxy Note 10 (score:0.0)\n",
      "Recommended: Samsung Galaxy S10e (score:0.0)\n",
      "Recommended: Samsung Galaxy S10 lite (score:0.0)\n",
      "Recommended: Samsung Galaxy S10 (score:0.0)\n"
     ]
    }
   ],
   "source": [
    "recommend(id_index, 5)"
   ]
  },
  {
   "cell_type": "markdown",
   "metadata": {},
   "source": [
    "Again, as before For the purpose of our BuyandBye django project, we define a function that takes the user id as parameter to recommended items specific to that user.\n",
    "\n",
    "```python\n",
    "def user_recommend(req_user_id):\n",
    "    user_df.user_id = req_user_id  # filtering based on the user id\n",
    "    user_df.verb = \"Viewed item\"    # filtering to 'viewed item' only\n",
    "    mode = user_df.target_id.mode()  # getting the most repeated item\n",
    "    mode_id = mode[0]  # extracting the id of mode from the mode table\n",
    "    return recommend(mode_id, 20)\n",
    "```\n",
    "\n",
    "This function returns a python list with ids of recommended products for that specific user. We filter based on that list of ids."
   ]
  }
 ],
 "metadata": {
  "kernelspec": {
   "display_name": "Python 3",
   "language": "python",
   "name": "python3"
  },
  "language_info": {
   "codemirror_mode": {
    "name": "ipython",
    "version": 3
   },
   "file_extension": ".py",
   "mimetype": "text/x-python",
   "name": "python",
   "nbconvert_exporter": "python",
   "pygments_lexer": "ipython3",
   "version": "3.8.0"
  }
 },
 "nbformat": 4,
 "nbformat_minor": 4
}
